{
  "nbformat": 4,
  "nbformat_minor": 0,
  "metadata": {
    "colab": {
      "provenance": []
    },
    "kernelspec": {
      "name": "python3",
      "display_name": "Python 3"
    },
    "language_info": {
      "name": "python"
    }
  },
  "cells": [
    {
      "cell_type": "markdown",
      "source": [
        "#Project 3\n",
        "\n",
        "Avik Bhattacharya"
      ],
      "metadata": {
        "id": "ahps0DcgB69y"
      }
    },
    {
      "cell_type": "markdown",
      "source": [
        "##Imports"
      ],
      "metadata": {
        "id": "rcIgi1KkCVyV"
      }
    },
    {
      "cell_type": "code",
      "source": [],
      "metadata": {
        "id": "X7fyberWB77W"
      },
      "execution_count": null,
      "outputs": []
    },
    {
      "cell_type": "markdown",
      "source": [
        "##Question 1"
      ],
      "metadata": {
        "id": "JWAX83sJCX2O"
      }
    },
    {
      "cell_type": "markdown",
      "source": [
        "Implement the Gradient Boosting algorithm with user defined choices for Regressor_1 and Regressor_2"
      ],
      "metadata": {
        "id": "he41jFRMCohm"
      }
    },
    {
      "cell_type": "code",
      "source": [],
      "metadata": {
        "id": "563bS2USCZy4"
      },
      "execution_count": null,
      "outputs": []
    },
    {
      "cell_type": "markdown",
      "source": [
        "##Question 2"
      ],
      "metadata": {
        "id": "I0rJlBaSC-Bp"
      }
    },
    {
      "cell_type": "markdown",
      "source": [
        "Test the Boosted Locally Weighted Regressor with different choices of data (such as \"cars.csv\", \"concrete.csv\" and \"housing.csv\") and different choice of kernels, such as Gaussian, Tricubic, Epanechnikov and Quartic."
      ],
      "metadata": {
        "id": "94KU2hQlDGnE"
      }
    },
    {
      "cell_type": "code",
      "source": [],
      "metadata": {
        "id": "C2Ur6ZwdC-9r"
      },
      "execution_count": null,
      "outputs": []
    },
    {
      "cell_type": "markdown",
      "source": [
        "##Question 3"
      ],
      "metadata": {
        "id": "Fi92YCmgDq8y"
      }
    },
    {
      "cell_type": "markdown",
      "source": [
        "Use the complete K-Fold crossvalidations to compare with other regressors, such as RandomForest."
      ],
      "metadata": {
        "id": "J182G5bWDxsf"
      }
    },
    {
      "cell_type": "code",
      "source": [],
      "metadata": {
        "id": "xqdnWkvXDr2K"
      },
      "execution_count": null,
      "outputs": []
    }
  ]
}